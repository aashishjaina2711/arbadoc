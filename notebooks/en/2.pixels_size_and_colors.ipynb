{
 "metadata": {
  "name": ""
 },
 "nbformat": 3,
 "nbformat_minor": 0,
 "worksheets": [
  {
   "cells": [
    {
     "cell_type": "markdown",
     "metadata": {},
     "source": [
      "# Pixels, size, and colors\n",
      "\n",
      "This tutorial illustrates how we control individual pixels, assign them a color, possible operations on colors and dealing with Arbalet's height and width. We'll create a pink-cyan example to understand these basic notions. \n",
      "\n",
      "From the ones we already know, we import an additional class `Arbapixel` representing a single pixel of the table:"
     ]
    },
    {
     "cell_type": "code",
     "collapsed": false,
     "input": [
      "from arbasdk import Arbamodel, Arbalet, Arbapixel"
     ],
     "language": "python",
     "metadata": {},
     "outputs": []
    },
    {
     "cell_type": "markdown",
     "metadata": {},
     "source": [
      "We create a pink model and link it to the controller:"
     ]
    },
    {
     "cell_type": "code",
     "collapsed": false,
     "input": [
      "arbalet = Arbalet(hardware=True, config='')"
     ],
     "language": "python",
     "metadata": {},
     "outputs": []
    },
    {
     "cell_type": "code",
     "collapsed": false,
     "input": [
      "model = Arbamodel(arbalet.height, arbalet.width, 'deeppink')\n",
      "arbalet.set_model(model)"
     ],
     "language": "python",
     "metadata": {},
     "outputs": []
    },
    {
     "cell_type": "markdown",
     "metadata": {},
     "source": [
      "In the first tutorial we changed the color of all pixels at a time, but setting a new color to a single pixel is achieved with `Arbamodel.set_pixel()`. Let's draw a center horizontal **line** in cyan above the pink background. We browse all columns (from 0 to the end) with the same row (the middle of the height) and change the color of each pixel:"
     ]
    },
    {
     "cell_type": "code",
     "collapsed": false,
     "input": [
      "for w in range(arbalet.width):\n",
      "    model.set_pixel(int(arbalet.height/2), w, 'cyan')"
     ],
     "language": "python",
     "metadata": {},
     "outputs": []
    },
    {
     "cell_type": "markdown",
     "metadata": {},
     "source": [
      "Let's print in the terminal what color are all the pixels on the centered vertical **_column_** this time, getting a pixel color is achieved with `get_pixel()`:"
     ]
    },
    {
     "cell_type": "code",
     "collapsed": false,
     "input": [
      "for h in range(arbalet.height):\n",
      "    print \"Color\", model.get_pixel(h, int(arbalet.width/2))"
     ],
     "language": "python",
     "metadata": {},
     "outputs": []
    },
    {
     "cell_type": "markdown",
     "metadata": {},
     "source": [
      "We first observe that the color are encoded as a 3-tuple. The first value of this tuple represents how much *red* this color has from 0 (the minimum) to 255 (the maximum). The second and the third fields represent respectively how much *green* and *blue* this color has. By combining these 3 primary colors with values between 0-255 we designate one of the 16,777,216 colors that each pixel is able to display.\n",
      "\n",
      "We have printed the pixels of the middle column that is mainly made of pink and a single cyan point. Thus `[255, 20, 147]` represents the *deep pink* color. Deep pink has a lot of red (255), very few green (20) and an average quantity of blue (147). The cyan color has no red at all and equal quantities of green and blue (255)."
     ]
    },
    {
     "cell_type": "markdown",
     "metadata": {},
     "source": [
      "The magic with colors is that we can add them or multiply them by some percentage. Have you ever dreamed of seeing what is 20% of cyan and 20% of deep pink? Let's multiply the middle vertical line by 0.2:"
     ]
    },
    {
     "cell_type": "code",
     "collapsed": false,
     "input": [
      "for h in range(arbalet.height):\n",
      "    color = model.get_pixel(h, int(arbalet.width/2))\n",
      "    color = color*0.2\n",
      "    model.set_pixel(h, int(arbalet.width/2), color)"
     ],
     "language": "python",
     "metadata": {},
     "outputs": []
    },
    {
     "cell_type": "markdown",
     "metadata": {},
     "source": [
      "Multiplying a color by 20% actually just makes it darker. From a point of view of the computer there is no dark or bright color, 20% of cyan is something different than cyan, equals to `[0*0.2, 255*0.2, 255*0.2]`, what gives `[0, 51, 51]`. Reexecute cell `[5]` to check."
     ]
    },
    {
     "cell_type": "markdown",
     "metadata": {},
     "source": [
      "To switch off the full table we basically need to set all pixels to *no red, no green and no blue*. This is color `[0, 0, 0]` which is equivalent to `'black'`. Indeed you can designate a color indifferently by its RGB 3-tuple or by its name. Since we did not intend to name colors like `'intense red, with no green and very few blue, but more blue than the previous color'` we have not named all 16,777,216 possible colors, but extracted a subset of 140 named colors instead, [whose list is available here](http://html-color-names.com/color-chart.php). It is often handy to refer to a color with its name in a program, but 3-tuples designate much much more colors."
     ]
    },
    {
     "cell_type": "code",
     "collapsed": false,
     "input": [
      "# You're talking too much, we just needed to switch off the table by displaying black:\n",
      "model.set_all('black')"
     ],
     "language": "python",
     "metadata": {},
     "outputs": []
    },
    {
     "cell_type": "markdown",
     "metadata": {},
     "source": [
      "After the multiplication, let's see an example of sum by inventing a new country flag made of draw 5 bands of colors:\n",
      "- red\n",
      "- green\n",
      "- blue\n",
      "- green + blue\n",
      "- red + green + blue\n",
      "\n",
      "But this is trivial, so to complexify we want our quadricolor flag to fit the whole table."
     ]
    },
    {
     "cell_type": "code",
     "collapsed": false,
     "input": [
      "# We define the same list of colors in the code\n",
      "colors = [Arbapixel('red'),\n",
      "          Arbapixel('green'),\n",
      "          Arbapixel('blue'),\n",
      "          Arbapixel('green') + Arbapixel('blue'),\n",
      "          Arbapixel('red') + Arbapixel('green') + Arbapixel('blue')]\n",
      "\n",
      "band_thickness = arbalet.width/len(colors)\n",
      "print len(colors), 'bands wide gives a band thickness of', band_thickness, 'pixel wide on a', arbalet.height, 'x', arbalet.width, 'table'\n",
      "\n",
      "# We browse each band, each column and each row separatly to facilitate automatic scaling\n",
      "for num_band in range(len(colors)): # For each one one our 5 colors...\n",
      "    for w in range(band_thickness): # ...and each column inside a single band of color...\n",
      "        for h in range(arbalet.height):  # ...and each pixel in this row...\n",
      "            column = w+num_band*band_thickness\n",
      "            model.set_pixel(h, column, colors[num_band])"
     ],
     "language": "python",
     "metadata": {},
     "outputs": []
    },
    {
     "cell_type": "markdown",
     "metadata": {},
     "source": [
      "And... we have now the proof that *green* + *blue* = *cyan*, and also that this common mystic rule taught to naive children that summing light *red* + *green* + *blue* = *white*"
     ]
    },
    {
     "cell_type": "markdown",
     "metadata": {},
     "source": [
      "It is sometimes difficult to remember what side the _height_ and the _width_ are, since some programs will run in landscape, some others in portrait, some tables may be square, ... Exchanging _height_ and _width_ will lead to exceptions or less understandable bugs. \n",
      "The rule of the thumb is that whatever its size is, any _Arbalet_ is vertical (in portrait mode), thus:\n",
      "* __height__ represents __rows__\n",
      "* __width__ represents __columns__\n",
      "* height >= width"
     ]
    },
    {
     "cell_type": "markdown",
     "metadata": {},
     "source": [
      "Drawing a horizontal flag instead of a vertical one requires to change the role of width and height. If applications are compatible in both vertical and horizontal mode like this flag example, it is generally good to create a generic function to rotate the view, but for academic purposes, here is the rotated flag:"
     ]
    },
    {
     "cell_type": "code",
     "collapsed": false,
     "input": [
      "band_thickness = arbalet.height/len(colors)\n",
      "print len(colors), 'bands tall gives a band thickness of', band_thickness, 'pixel tall on a', arbalet.height, 'x', arbalet.width, 'table'\n",
      "\n",
      "# We browse each band, each column and each row separatly to facilitate automatic scaling\n",
      "for num_band in range(len(colors)): # For each one one our 5 colors...\n",
      "    for h in range(band_thickness): # ...and each row inside a single band of color...\n",
      "        for w in range(arbalet.width):  # ...and each pixel in this column...\n",
      "            row = h+num_band*band_thickness\n",
      "            model.set_pixel(row, w, colors[num_band])"
     ],
     "language": "python",
     "metadata": {},
     "outputs": []
    },
    {
     "cell_type": "markdown",
     "metadata": {},
     "source": [
      "You have finished this tutorial about pixels, table size and color operations, don't forget to close resources cleanly before leaving, see you in the next tuto!"
     ]
    },
    {
     "cell_type": "code",
     "collapsed": false,
     "input": [
      "arbalet.close()"
     ],
     "language": "python",
     "metadata": {},
     "outputs": []
    }
   ],
   "metadata": {}
  }
 ]
}