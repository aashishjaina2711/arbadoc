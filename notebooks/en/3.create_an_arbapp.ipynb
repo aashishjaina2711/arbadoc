{
 "metadata": {
  "name": "",
  "signature": "sha256:e2602fda9dbbd3b2d9f2df737aae5ad4b74167755e166f90099d6f9345809a54"
 },
 "nbformat": 3,
 "nbformat_minor": 0,
 "worksheets": [
  {
   "cells": [
    {
     "cell_type": "markdown",
     "metadata": {},
     "source": [
      "# Create an Arbalet application"
     ]
    },
    {
     "cell_type": "markdown",
     "metadata": {},
     "source": [
      "Now we know the bare interface to send models to our table, we learn now how to package a more complex application for Arbalet by inheriting from a class literrally named `Application`. This tutorial assumes that you already know the basics of [Object-Oriented Programming](http://en.wikipedia.org/Object-oriented programming) and especially the notions of class, its constructor, the attributes/methods of a class, and inheritance."
     ]
    },
    {
     "cell_type": "markdown",
     "metadata": {},
     "source": [
      "The mother class `Application` already contains all what we need to create an application packaged into a class. We don't even need to import `Arbalet` nor `Mdel` since they are already included in this magic `Application` class. Let's start by importing some modules:"
     ]
    },
    {
     "cell_type": "code",
     "collapsed": false,
     "input": [
      "from arbalet.core import Application, Rate\n",
      "import argparse  # For argument parsing"
     ],
     "language": "python",
     "metadata": {},
     "outputs": []
    },
    {
     "cell_type": "markdown",
     "metadata": {},
     "source": [
      "## Create a stub of application"
     ]
    },
    {
     "cell_type": "markdown",
     "metadata": {},
     "source": [
      "Now we create a stub for our custom application `WormApp`, displaying a worm by inheriting from `Application` and creating an empty constructor."
     ]
    },
    {
     "cell_type": "code",
     "collapsed": false,
     "input": [
      "class WormApp(Application):\n",
      "    def __init__(self):\n",
      "        Application.__init__(self)  # Basic inheritance calls the super constructor"
     ],
     "language": "python",
     "metadata": {},
     "outputs": []
    },
    {
     "cell_type": "markdown",
     "metadata": {},
     "source": [
      "The previous cell contains almost no code so it does not show anything, this is just the basic template we are going to improve. "
     ]
    },
    {
     "cell_type": "markdown",
     "metadata": {},
     "source": [
      "This `Application` class is just a way of packaging/organizing an application, but the most important point to remember is just that it contains an `Arbalet` controller class accessible via `WormApp.arbalet` and that all the code of the application must be in the `run()` method.\n",
      "\n",
      "This way of packaging the app in the `Application` class might looks silly at first sight but allows powerful features such as application inheritence and method overloading, automatic closure and more.\n",
      "\n",
      "To illustrate this, we can just print the size of the connected table in `run()`:"
     ]
    },
    {
     "cell_type": "code",
     "collapsed": false,
     "input": [
      "class WormApp(Application):\n",
      "    def __init__(self):\n",
      "        Application.__init__(self)\n",
      "    \n",
      "    def run(self):\n",
      "        print(\"My height:\", self.arbalet.height, \"pixels\")    # Contains the number of pixels in height (15 for the default table)\n",
      "        print(\"My width:\", self.arbalet.width, \"pixels\")      # Contains the number of pixels in width (10 for the default table)"
     ],
     "language": "python",
     "metadata": {},
     "outputs": []
    },
    {
     "cell_type": "markdown",
     "metadata": {},
     "source": [
      "Execution of the previous cell did not show anything, because this is only the **declaration** of the application `WormApp`, running it requires a call to `start()`:"
     ]
    },
    {
     "cell_type": "code",
     "collapsed": false,
     "input": [
      "WormApp().start()"
     ],
     "language": "python",
     "metadata": {},
     "outputs": []
    },
    {
     "cell_type": "markdown",
     "metadata": {},
     "source": [
      "This time the code in `run()` has been executed and the size has been printed, but the simulator opened and closed instantly. This is because this app has a very short execution time, and because the `Application` class always release resources when there is no more code to run in `run()`, thus using `Application` there is no more need for calling `close()`, it is automatic."
     ]
    },
    {
     "cell_type": "markdown",
     "metadata": {},
     "source": [
      "## Improve the worm app with actual code dealing with pixels"
     ]
    },
    {
     "cell_type": "markdown",
     "metadata": {},
     "source": [
      "In the previous tutorial we have drawn a flag with no harcoded digit and used only fields width and height. In practice your application __must__ use these fields to adapt its content to any size. In some occasions you will need some constraints to be respected, e.g. some ratio between height and width, an odd or even number of columns or rows, or, more rarely, a specific size. In that case you should check at starting whether the constraints are respected and, if not, exit cleanly with a meaningful error message."
     ]
    },
    {
     "cell_type": "markdown",
     "metadata": {},
     "source": [
      "This class also encapsulates for you command-line argument parsing, which are then stored in a [namespace](https://docs.python.org/2.7/library/argparse.html#argparse.Namespace) at `self.args`. Some of arguments are reserved to the super class and are common to all applications. For instance the `--no-gui` argument that you have already heard about in first [software tutorials](https://github.com/arbalet-project/arbadoc/wiki/Software-tutorials#arguments) can be accessed through the field `self.args.no_gui`."
     ]
    },
    {
     "cell_type": "markdown",
     "metadata": {},
     "source": [
      "Applications needing their own arguments can declare their own `argparse.ArgumentParser`, fill it with its accepted arguments (make sure there is no name collision with the common ones) and pass the object to `Application`. **Do not call `parser.parse_args()` yourself**, `Application` will do this for us!\n",
      "\n",
      "Let's add a `--color` argument with short name `-col`, a string corresponding to the color of the worm, red by default:"
     ]
    },
    {
     "cell_type": "code",
     "collapsed": false,
     "input": [
      "class WormApp(Application):\n",
      "    def __init__(self):\n",
      "        parser = argparse.ArgumentParser(description='This trivial application shows a worm')\n",
      "        parser.add_argument('-col', '--color',\n",
      "                            type=str,\n",
      "                            default='red',\n",
      "                            help='Color of the worm (string of a HTML color)')\n",
      "        Application.__init__(self, parser)      # The argparse object is passed to class Application here"
     ],
     "language": "python",
     "metadata": {},
     "outputs": []
    },
    {
     "cell_type": "markdown",
     "metadata": {},
     "source": [
      "The constructor should just be used to initialize the workspace, declare arguments, and eventually initialize the model with some color, not more. The heart of the application must overload the method `Application.run()`. This `run()` also comes with a `start()` whose call ensures that all the resources are closed after a successful or failed run.\n",
      "\n",
      "As our first code in `run()`, let's display a red pixel browsing the whole table. For this we will simply cleanup the model (setting all pixels black with `set_all()`) and then attributing the red color to a single pixel with `set_pixel()`.\n",
      "\n",
      "There are 3 important elements in the code here after:\n",
      "\n",
      "## The `Rate` class\n",
      "The `Rate` class is a controlled loop, it allows you to loop at a specific frame rate in hertz whatever the time your calculations take (assuming that the CPU is not overloaded). For instance `Rate(5)` will loop at ~5Hz, resulting each pixel to stay lit 200ms.\n",
      "\n",
      "## Model locking\n",
      "The `with self.arbalet.user_model` statement allows to lock the model. In general this prevents the hardware and simulator from reading an unstable frame. For instance, to draw the next pixel we decided to set all pixels to black. If the frame is sent to the table right after `set_all` the table will actually show a black screen which we do not want. Therefore, locking the model while painting on it allows to display only stable models.\n",
      "\n",
      "## Text display\n",
      "The model allows to render pixelated text on the table thanks to a single call `user_model.write(\"Some text\", \"color\")`"
     ]
    },
    {
     "cell_type": "code",
     "collapsed": false,
     "input": [
      "class WormApp(Application):\n",
      "    def __init__(self):\n",
      "        parser = argparse.ArgumentParser(description='This trivial application shows a worm')\n",
      "        parser.add_argument('-col', '--color',\n",
      "                            type=str,\n",
      "                            default='red',\n",
      "                            help='Color of the worm (string of a HTML color)')\n",
      "        Application.__init__(self, parser)      # The argparse object is passed to class Application here\n",
      "\n",
      "    def run(self):\n",
      "        # We start by displaying some text\n",
      "        self.arbalet.user_model.write('My color: ' + self.args.color.upper(), self.args.color)\n",
      "\n",
      "        # Then we display the actual worm\n",
      "        rate = Rate(5)\n",
      "        for h in range(self.arbalet.height):\n",
      "            for w in range(self.arbalet.width):\n",
      "                with self.arbalet.user_model:\n",
      "                    self.arbalet.user_model.set_all('black')\n",
      "                    # The model is now all black (i.e. light off), in an unstable state\n",
      "                    self.arbalet.user_model.set_pixel(h, w, self.args.color)\n",
      "                    # The next pixel has been lit, the model is now stable we can release the lock\n",
      "                rate.sleep()"
     ],
     "language": "python",
     "metadata": {},
     "outputs": []
    },
    {
     "cell_type": "markdown",
     "metadata": {},
     "source": [
      "You can execute this new app by calling `start()`:"
     ]
    },
    {
     "cell_type": "code",
     "collapsed": false,
     "input": [
      "WormApp().start()"
     ],
     "language": "python",
     "metadata": {},
     "outputs": []
    },
    {
     "cell_type": "markdown",
     "metadata": {},
     "source": [
      "Note: Python notebook like this page are not very suitable for Arbalet applications, they must be saved into a new subfolder of the [arbapp](https://github.com/arbalet-project/arbapps). To be able to change the color thanks to the argument `--color` that we specified you must convert this notebook into python script and execute it directly. For this you can clic on File > Download as > Python (.py). Then run `python 3.create_an_arbapp.py --color blue` to execute the app with a blue worm."
     ]
    },
    {
     "cell_type": "markdown",
     "metadata": {},
     "source": [
      "Congratulations! You are now ready to develop your own app, make sure you create its own folder in the [`arbapps/`](https://github.com/arbalet-project/arbapps) repository.\n",
      "\n",
      "If you need extra features for games like reading a keyboard/joystick, playing music, you can use [pygame](http://www.pygame.org/docs/), for any other feature you should find a python module satisfying your needs. The last tutorial illustrates the touch feature."
     ]
    }
   ],
   "metadata": {}
  }
 ]
}