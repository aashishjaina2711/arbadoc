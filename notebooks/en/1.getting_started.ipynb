{
 "metadata": {
  "name": ""
 },
 "nbformat": 3,
 "nbformat_minor": 0,
 "worksheets": [
  {
   "cells": [
    {
     "cell_type": "markdown",
     "metadata": {},
     "source": [
      "#Getting started with Arbalet\n",
      "## Prerequisites\n",
      "In this notebook we learn how to start lightning our first pixels with Arbalet. This can be used to control the simulation, the physical table or both at a time. So even if you just want to play or are waiting for your electronic order to be delivered, follow the tutorial, you'll save time ;-)\n",
      "\n",
      "You should have read the [software prerequisites](https://github.com/arbalet-project/arbadoc/wiki/Software-tutorials) to install the Python SDK on you Linux computer first. A non-properly installed SDK will raise an `ImportError` exception in the first cell.\n",
      "\n",
      "### ipython notebook\n",
      "If you are not familiar with ipython notebook, just remind that all the code below is executable step-by-step by pressing Alt+Enter. Follow the explanations preceeding each cell and execute it as we go along, you can also change some parameters and re-execute them! However this doesn't work if you read this online since there is no Python interpreter on our servers ;) Read [software prerequisites](https://github.com/arbalet-project/arbadoc/wiki/Software-tutorials) to checkout your local ipython notebook.\n",
      "\n",
      "### Let's go\n",
      "Let's starts by importing a bunch of classes..."
     ]
    },
    {
     "cell_type": "markdown",
     "metadata": {},
     "source": [
      "The classes Arbalet and Arbamodel we are about to import are two basic classes we will use all the time.\n",
      "The \"Arbalet\" is a sort of master/controller of the Arbalet system, alll changes we want to perform will be directly or indirectly addressed to this class so that it updates the simulated and/or physical table.\n"
     ]
    },
    {
     "cell_type": "code",
     "collapsed": false,
     "input": [
      "from arbasdk import Arbamodel, Arbalet"
     ],
     "language": "python",
     "metadata": {},
     "outputs": []
    },
    {
     "cell_type": "markdown",
     "metadata": {},
     "source": [
      "Now we declare an instance of the `Arbalet()` controller. We can specify here if we connect to a simulated or a real table, just set `hardware` to `True` if you have the real table connected, the simulation is enabled by default. This declaration causes the library to read the configuration describing your table (the default table with 150 pixels) and prepare everything you need."
     ]
    },
    {
     "cell_type": "code",
     "collapsed": false,
     "input": [
      "arbalet = Arbalet(hardware=False)"
     ],
     "language": "python",
     "metadata": {},
     "outputs": []
    },
    {
     "cell_type": "markdown",
     "metadata": {},
     "source": [
      "Now we create an instance of `Arbamodel`. This class represents a model loadable on the table. A model is a snapshot of all pixels at a given time. Its parameters are:\n",
      "* `width`: the number of pixels in width (value is taken from the controller)\n",
      "* `height`: the number of pixels in height (value is taken the controller)\n",
      "* `color`: a default color that will be used to initialize all pixels\n",
      "\n",
      "Let's create a trivial model entirely filled with pink pixels:"
     ]
    },
    {
     "cell_type": "code",
     "collapsed": false,
     "input": [
      "model = Arbamodel(arbalet.height, arbalet.width, \"deeppink\")"
     ],
     "language": "python",
     "metadata": {},
     "outputs": []
    },
    {
     "cell_type": "markdown",
     "metadata": {},
     "source": [
      "We are now 10 seconds away from illuminating our first pixels with Arbalet! The next step is to assign the model to the controller we define just before. The consequence of this will be that the table will display the yellow pixels declared inside the model."
     ]
    },
    {
     "cell_type": "code",
     "collapsed": false,
     "input": [
      "arbalet.set_model(model)"
     ],
     "language": "python",
     "metadata": {},
     "outputs": []
    },
    {
     "cell_type": "markdown",
     "metadata": {},
     "source": [
      "Did lightning happen? Open the simulator window (called `Arbasim`) to check that it also displays the model.\n",
      "If nothing happens check if you see errors in tracebacks below previously executed cells and see the Troubleshooting section of the documentation (TODO). If you could see the pixels enlighted in pink, you're ready to continue..."
     ]
    },
    {
     "cell_type": "markdown",
     "metadata": {},
     "source": [
      "Our `Arbalet()` instance is linked to the model through a **reference**. If you are familiar with programming you probably know what it implies, if not, just imagine that their is an arrow from `Arbalet()` to the model. Several times a second, the controller looks where the arrow is pointing and if pixels have changed in the model, it impacts the modifications on the real table and simulation.\n",
      "\n",
      "This means that if we change the colors of the model we defined to cyan, we do not need to execute `set_model(model)` again to see the result since the arrow is still pointing at this model, we just need to change the color on the model. A function `set_all` allows to set all pixels to a new color."
     ]
    },
    {
     "cell_type": "code",
     "collapsed": false,
     "input": [
      "model.set_all('cyan')"
     ],
     "language": "python",
     "metadata": {},
     "outputs": []
    },
    {
     "cell_type": "markdown",
     "metadata": {},
     "source": [
      "You should observe that the table switched from pink to cyan. It is possible to create an infinite number of models in the same program. Models can be modified, re-modified and re-re-modified. If the arrow does not point at them these modifications are run in background and are thus not visible. The model pointed by this arrow is changed thanks to `set_model()`. If the arrow points at a model during its modification we directly see the result on the table.\n",
      "\n",
      "In the cells thereafter we create another model called `my_second_model` filled with red pixels and switch several times between both models we have created in this tutorial each 2 seconds. Each time we execute `set_model()` we then change the pointing to the specified model."
     ]
    },
    {
     "cell_type": "code",
     "collapsed": false,
     "input": [
      "my_second_model = Arbamodel(arbalet.height, arbalet.width, 'red')"
     ],
     "language": "python",
     "metadata": {},
     "outputs": []
    },
    {
     "cell_type": "markdown",
     "metadata": {},
     "source": [
      "Executing the previous cell has produced no visible change since the controller is still pointing at the cyan model. We need to call `set_model()` to display `my_second_model` on the table.\n",
      "\n",
      "Note: If you change the color in previous cell and re-execute it you won't see the change on the table. This is because your second execution of this cell created another new model (a 3rd one) with the same name but not linked to the controller still pointing at the red one (tip: re-executing also `set_model(my_second_model)` will redirect the arrow and display your changes). However by re-assigning `my_second_model` to a newly constructed model, you have overwritten the red one so you will not be able to display it again."
     ]
    },
    {
     "cell_type": "code",
     "collapsed": false,
     "input": [
      "arbalet.set_model(my_second_model)"
     ],
     "language": "python",
     "metadata": {},
     "outputs": []
    },
    {
     "cell_type": "markdown",
     "metadata": {},
     "source": [
      "Congratulations you have displayed your first colors with Arbalet(), but before ending the program don't forget to close arbalet by executing the last cell below. This call ensures that all hardware and software resources used to run Arbalet are released properly in order not to conflict for your next program. Forgetting this call may create unexpected behaviour!"
     ]
    },
    {
     "cell_type": "code",
     "collapsed": false,
     "input": [
      "arbalet.close()"
     ],
     "language": "python",
     "metadata": {},
     "outputs": []
    },
    {
     "cell_type": "markdown",
     "metadata": {},
     "source": [
      "Now follow the next tutorial _2. Pixels, size, and colors_ to learn more about playing in the pixelised and colorful world of Arbalet!"
     ]
    }
   ],
   "metadata": {}
  }
 ]
}