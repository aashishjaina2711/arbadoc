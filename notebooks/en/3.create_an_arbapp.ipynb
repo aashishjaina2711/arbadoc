{
 "metadata": {
  "name": ""
 },
 "nbformat": 3,
 "nbformat_minor": 0,
 "worksheets": [
  {
   "cells": [
    {
     "cell_type": "markdown",
     "metadata": {},
     "source": [
      "# Create an Arbapp (Arbalet application)"
     ]
    },
    {
     "cell_type": "markdown",
     "metadata": {},
     "source": [
      "Now we know the bare interface to send models to our table, we learn now how to package a more complex application for Arbalet by inheriting from a class `Arbapp`. This tutorial assumes that you already know the basics of [Object-Oriented Programming](http://en.wikipedia.org/Object-oriented programming) and especially the notions of class, its constructor, the attributes/methods of a class, and inheritance."
     ]
    },
    {
     "cell_type": "markdown",
     "metadata": {},
     "source": [
      "The mother class `Arbapp` already contains all what we need to create an application packaged into a class. We don't even need to import `Arbalet` nor `Arbamodel` since they are already included in this magic `Arbapp`. Let's start by importing some modules:"
     ]
    },
    {
     "cell_type": "code",
     "collapsed": false,
     "input": [
      "from arbasdk import Arbapp, Arbapixel, Rate\n",
      "import argparse  # For argument parsing"
     ],
     "language": "python",
     "metadata": {},
     "outputs": [],
     "prompt_number": 9
    },
    {
     "cell_type": "markdown",
     "metadata": {},
     "source": [
      "Now we create a stub for our custom application `MyCustomArbapp` (which could be a game, animation, ...) by inheriting from `Arbapp` and creating an empty constructor. We will create a movie with this app.\n",
      "\n",
      "__Note:__ _We will be defining, re-defining, and re-re-defining the class `MyCustomArbapp` in the code cells without declaring an instance, so their execution with Alt+Enter will not show anything. Just make sure that you understand their content and **focus on the comments**, we'll run the actual application at the end of the tutorial._"
     ]
    },
    {
     "cell_type": "code",
     "collapsed": false,
     "input": [
      "class MyCustomArbapp(Arbapp):\n",
      "    def __init__(self):\n",
      "        Arbapp.__init__(self)  # Basic inheritance calls the super constructor"
     ],
     "language": "python",
     "metadata": {},
     "outputs": [],
     "prompt_number": 2
    },
    {
     "cell_type": "markdown",
     "metadata": {},
     "source": [
      "The magic of this `Arbapp` class is that it has already loaded the default configuration and is filled with all we need, starting by the size of the table at runtime and a model, already connected to `Arbalet` (so changing this model will immediatley take effect on the table or simulation):\n",
      "\n"
     ]
    },
    {
     "cell_type": "code",
     "collapsed": false,
     "input": [
      "class MyCustomArbapp(Arbapp):\n",
      "    def __init__(self):\n",
      "        Arbapp.__init__(self)\n",
      "        print \"My height:\", self.height, \"pixels\"    # self.height contains the number of pixels in height (15 for the default table)\n",
      "        print \"My width:\", self.width, \"pixels\"      # self.width contains the number of pixels in width (10 for the default table)\n",
      "        print \"My initial model in JSON is\",\n",
      "        str(self.model.to_json())  # This would print a verbose output showing the initial black model in JSON format"
     ],
     "language": "python",
     "metadata": {},
     "outputs": [],
     "prompt_number": 8
    },
    {
     "cell_type": "markdown",
     "metadata": {},
     "source": [
      "In the previous tutorial we have drawn a flag with no harcoded digit and used only fields width and height. In practice your application __must__ use these fields to adapt its content to any size. In some occasions you will need some constraints to be respected, e.g. some ratio between height and width, an odd or even number of columns or rows, or, more rarely, a specific size. In that case you should check at starting whether the constraints are respected and, if not, exit cleanly with a meaningful error message."
     ]
    },
    {
     "cell_type": "markdown",
     "metadata": {},
     "source": [
      "This class also encapsulates for you command-line argument parsing, which are then stored in a [namespace](https://docs.python.org/2.7/library/argparse.html#argparse.Namespace) at `self.args`. Some of arguments are reserved to the super class and are common to all applications. For instance the `--no-gui` argument that you have already heard about in first [software tutorials](https://github.com/arbalet-project/arbadoc/wiki/Software-tutorials#arguments) can be accessed through the field `self.args.no_gui`."
     ]
    },
    {
     "cell_type": "markdown",
     "metadata": {},
     "source": [
      "Applications needing their own arguments can declare their own `argparse.ArgumentParser`, fill it with with its accepted arguments (make sure there is no name collision with the common ones) and pass the object to `Arbapp`. **Do not call `parser.parse_args()` yourself**, `Arbapp` will do this for us!\n",
      "\n",
      "Let's add a `--duration` argument with short name `-d` as a float being the movie duration with a default value of `10.0` seconds."
     ]
    },
    {
     "cell_type": "code",
     "collapsed": false,
     "input": [
      "class MyCustomArbapp(Arbapp):\n",
      "    def __init__(self):\n",
      "        parser = argparse.ArgumentParser(description='This application illustrates a well known movie.')\n",
      "        parser.add_argument('-d', '--duration',\n",
      "                            type=float,\n",
      "                            default=10.0,\n",
      "                            help='Duration of the movie in seconds')\n",
      "        Arbapp.__init__(self, parser)  # The argparse object is passed to Arbapp here\n",
      "        print \"My movie duration:\", self.args.duration # Immediately after super(), the field is ready to be used\n",
      "        print \"My height:\", self.height, \"pixels\"\n",
      "        print \"My width:\", self.width, \"pixels\""
     ],
     "language": "python",
     "metadata": {},
     "outputs": [],
     "prompt_number": 7
    },
    {
     "cell_type": "markdown",
     "metadata": {},
     "source": [
      "The constructor should just be used to initialize the workspace, declare arguments, and eventually initialize the model with some color, not more. The heart of the application must overload the method `Arbapp.run()`. `run()` will ensure that all the resources are closed after a successful run, a close request from the user or a failure, while the constructor does not, so you should avoid runtime errors there.\n",
      "\n",
      "As our first code in `run()`, let's fade up all pixels from black (default color) to white in `self.args.duration` seconds in `self.shades = 50` steps.\n",
      "\n",
      "It is important to note that your app is threaded, so you can sleep whatever time you need, perform I/O operations, ... safely. However because of this, the model needs to be locked and unlocked while you are updating it. Locking is important to make sure you do not authorize an incomplete/unstable model to be displayed. `model.lock()` must occur as **late** as possible, right before a serie of `set_all()` or `set_pixel()` instructions. `model.unlock()` must occur as **soon** as possible right after the latter. **Do not** sleep or perform I/O while the model is locked.\n",
      "\n",
      "The Rate class is a controlled loop, it allows you to loop at a specific frame rate in hertz whatever the time your calculations take (assuming that the CPU is not overloaded). For instance `Rate(20)` will loop at ~20 Hz. Here we want a frame each `t = self.args.duration/self.shades = 10/50 = 0.2` second, so the framerate is `1/t = 5` Hz."
     ]
    },
    {
     "cell_type": "code",
     "collapsed": false,
     "input": [
      "class MyCustomArbapp(Arbapp):\n",
      "    def __init__(self):\n",
      "        parser = argparse.ArgumentParser(description='This application illustrates a well known movie.')\n",
      "        parser.add_argument('-d', '--duration',\n",
      "                            type=float,\n",
      "                            default=10.0,\n",
      "                            help='Duration of the movie in seconds')\n",
      "        Arbapp.__init__(self, parser)\n",
      "        self.shades = 50\n",
      "        print \"My movie duration:\", self.args.duration\n",
      "        print \"My height:\", self.height, \"pixels\"\n",
      "        print \"My width:\", self.width, \"pixels\"\n",
      "        \n",
      "    def run(self):\n",
      "        rate = Rate(float(self.shades)/self.args.duration)\n",
      "        for shade in range(self.shades):\n",
      "            shade = float(shade)/self.shades\n",
      "            self.model.lock()\n",
      "            self.model.set_all(Arbapixel('white')*shade)\n",
      "            self.model.unlock()\n",
      "            rate.sleep()"
     ],
     "language": "python",
     "metadata": {},
     "outputs": []
    },
    {
     "cell_type": "markdown",
     "metadata": {},
     "source": [
      "You have surely recognized this movie played on the table. We could run now but that's too simple all pixels are the same, let's complicate it a bit.\n",
      "\n",
      "A specific Python feature extremely useful for light effects is *generators*. You should read the [documentation of generators](https://wiki.python.org/moin/Generators) first but it short it is something that, used in a loop, returns each step the next element from a list. This list can even been infinite.\n",
      "\n",
      "Instead of displaying all colors at the same speed making the table uniform each step, think about making pixels asynchronous, each one of them has its own speed. They would have their own generator each. Now we are going to build an infinite generator ...\n",
      "\n",
      "TODO, to be continued..."
     ]
    },
    {
     "cell_type": "markdown",
     "metadata": {},
     "source": [
      "Note: Color changing seems jerky in this app since we are only showing 50 shades. Try increasing `self.shades` to smooth the animation, but that would be another movie."
     ]
    },
    {
     "cell_type": "markdown",
     "metadata": {},
     "source": [
      "Congratulations! You are now ready to develop your own app, make sur you create its own folder in the [`arbapps/`](https://github.com/arbalet-project/arbapps) repository.\n",
      "\n",
      "If you need extra features for games like reading a keyboard/joystick, playing music, you can use [pygame](http://www.pygame.org/docs/), for any other feature you should find a python module satisfying your needs. Finally make sure that even if they perform infinite loops, all your apps are interruptible by a `KeyboardInterrupt` event."
     ]
    }
   ],
   "metadata": {}
  }
 ]
}