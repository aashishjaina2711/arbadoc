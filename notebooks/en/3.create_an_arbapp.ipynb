{
 "metadata": {
  "name": ""
 },
 "nbformat": 3,
 "nbformat_minor": 0,
 "worksheets": [
  {
   "cells": [
    {
     "cell_type": "markdown",
     "metadata": {},
     "source": [
      "# Create an Arbapp (Arbalet application)"
     ]
    },
    {
     "cell_type": "markdown",
     "metadata": {},
     "source": [
      "Now we know the bare interface to send models to our table, we learn now how to package a more complex application for Arbalet by inheriting from a class `Arbapp`. This tutorial assumes that you already know the basics of [Object-Oriented Programming](http://en.wikipedia.org/Object-oriented programming) and especially the notions of class, its constructor, the attributes/methods of a class, and inheritance."
     ]
    },
    {
     "cell_type": "markdown",
     "metadata": {},
     "source": [
      "The mother class `Arbapp` already contains all what we need to create an application packaged into a class. We don't even need to import `Arbalet` nor `Arbamodel` since they are already included in this magic `Arbapp`. Let's start by importing the module: "
     ]
    },
    {
     "cell_type": "code",
     "collapsed": false,
     "input": [
      "from arbasdk import Arbapp"
     ],
     "language": "python",
     "metadata": {},
     "outputs": [],
     "prompt_number": 1
    },
    {
     "cell_type": "markdown",
     "metadata": {},
     "source": [
      "Now we create a stub for our custom application `MyCustomArbapp` (which could be a game, animation, ...) by inheriting from `Arbapp` and creating an empty constructor.\n",
      "\n",
      "__Note:__ _We will be defining, re-defining, and re-re-defining the class `MyCustomArbapp` in the code cells without declaring an instance, so their execution with Alt+Enter will not show anything. Just make sure that you understand their content, we'll run the actual application at the end of the tutorial._"
     ]
    },
    {
     "cell_type": "code",
     "collapsed": false,
     "input": [
      "class MyCustomArbapp(Arbapp):\n",
      "    def MyCustomArbapp():\n",
      "        super(Arbapp, self).__init__()"
     ],
     "language": "python",
     "metadata": {},
     "outputs": [],
     "prompt_number": 4
    },
    {
     "cell_type": "markdown",
     "metadata": {},
     "source": [
      "The magic of this `Arbapp` class is that it has already loaded the default configuration and is filled with all we need, starting by the size of the table at runtime:\n",
      "\n"
     ]
    },
    {
     "cell_type": "code",
     "collapsed": false,
     "input": [
      "class MyCustomArbapp(Arbapp):\n",
      "    def MyCustomArbapp():\n",
      "        super(Arbapp, self).__init__()\n",
      "        print \"My height:\", self.height, \"pixels\"    # self.height contains the number of pixels in height (15 for the default table)\n",
      "        print \"My width:\", self.width, \"pixels\"      # self.width contains the number of pixels in height (15 for the default table)"
     ],
     "language": "python",
     "metadata": {},
     "outputs": [],
     "prompt_number": 7
    },
    {
     "cell_type": "markdown",
     "metadata": {},
     "source": [
      "In the tutorial 1 we have hardcoded some size to 15x10 for learning purposes but in practice your application __must__ use these fields to adapt its content to any size. In some occasions you will need some constraints to be respected, e.g. some ratio between height and width, an odd or even number of columns or rows, or, more rarely, a specific size. In that case you should check at starting whether the constraints are respected and, if not, exit cleanly with a meaningful error message.\n",
      "\n"
     ]
    },
    {
     "cell_type": "markdown",
     "metadata": {},
     "source": [
      "The constructor should just be used to initialize the workspace and eventually initialize the model with some color, not more. The heart of the application must overload the method `Arbapp.run()`. `run()` will ensure that all the resources are closed after a successful run, a close request from the user or a failure, while the constructor does not, so you should avoid runtime errors there.\n",
      "\n",
      "As our first code in `run()`, let's fade up all pixels from black (default color) to cyan in 5 seconds:"
     ]
    },
    {
     "cell_type": "code",
     "collapsed": false,
     "input": [
      "class MyCustomArbapp(Arbapp):\n",
      "    def MyCustomArbapp():\n",
      "        super(Arbapp, self).__init__()\n",
      "        print \"My height:\", self.height, \"pixels\"\n",
      "        print \"My width:\", self.width, \"pixels\"\n",
      "        \n",
      "    def run():\n",
      "        overall_time = 10"
     ],
     "language": "python",
     "metadata": {},
     "outputs": []
    }
   ],
   "metadata": {}
  }
 ]
}