{
 "metadata": {
  "name": ""
 },
 "nbformat": 3,
 "nbformat_minor": 0,
 "worksheets": [
  {
   "cells": [
    {
     "cell_type": "markdown",
     "metadata": {},
     "source": [
      "# Create an Arbapp (Arbalet application)"
     ]
    },
    {
     "cell_type": "markdown",
     "metadata": {},
     "source": [
      "Now we know the bare interface to send models to our table, we learn now how to package a more complex application for Arbalet by inheriting from a class `Arbapp`. This tutorial assumes that you already know the basics of [Object-Oriented Programming](http://en.wikipedia.org/Object-oriented programming) and especially the notions of class, its constructor, the attributes/methods of a class, and inheritance."
     ]
    },
    {
     "cell_type": "markdown",
     "metadata": {},
     "source": [
      "The mother class `Arbapp` already contains all what we need to create an application packaged into a class. We don't even need to import `Arbalet` nor `Arbamodel` since they are already included in this magic `Arbapp`. Let's start by importing some modules:"
     ]
    },
    {
     "cell_type": "code",
     "collapsed": false,
     "input": [
      "from arbasdk import Arbapp, Arbapixel, Rate\n",
      "import argparse  # For argument parsing"
     ],
     "language": "python",
     "metadata": {},
     "outputs": []
    },
    {
     "cell_type": "markdown",
     "metadata": {},
     "source": [
      "Now we create a stub for our custom application `WormApp`, displaying a worm by inheriting from `Arbapp` and creating an empty constructor.\n",
      "\n",
      "__Note:__ _We will be defining, re-defining, and re-re-defining the class `WormApp` in the code cells without declaring an instance, so their execution with Alt+Enter will not show anything. Just make sure that you understand their content and **focus on the comments**, we'll run the actual application at the end of the tutorial._"
     ]
    },
    {
     "cell_type": "code",
     "collapsed": false,
     "input": [
      "class WormApp(Arbapp):\n",
      "    def __init__(self):\n",
      "        Arbapp.__init__(self)  # Basic inheritance calls the super constructor"
     ],
     "language": "python",
     "metadata": {},
     "outputs": []
    },
    {
     "cell_type": "markdown",
     "metadata": {},
     "source": [
      "The magic of this `Arbapp` class is that it has already loaded the default configuration and is filled with all we need, starting by the size of the table at runtime and a model, already connected to `Arbalet` (so changing this model will immediatley take effect on the table or simulation):\n",
      "\n"
     ]
    },
    {
     "cell_type": "code",
     "collapsed": false,
     "input": [
      "class WormApp(Arbapp):\n",
      "    def __init__(self):\n",
      "        Arbapp.__init__(self)\n",
      "        print \"My height:\", self.arbalet.height, \"pixels\"    # Contains the number of pixels in height (15 for the default table)\n",
      "        print \"My width:\", self.arbalet.width, \"pixels\"      # Contains the number of pixels in width (10 for the default table)"
     ],
     "language": "python",
     "metadata": {},
     "outputs": []
    },
    {
     "cell_type": "markdown",
     "metadata": {},
     "source": [
      "In the previous tutorial we have drawn a flag with no harcoded digit and used only fields width and height. In practice your application __must__ use these fields to adapt its content to any size. In some occasions you will need some constraints to be respected, e.g. some ratio between height and width, an odd or even number of columns or rows, or, more rarely, a specific size. In that case you should check at starting whether the constraints are respected and, if not, exit cleanly with a meaningful error message."
     ]
    },
    {
     "cell_type": "markdown",
     "metadata": {},
     "source": [
      "This class also encapsulates for you command-line argument parsing, which are then stored in a [namespace](https://docs.python.org/2.7/library/argparse.html#argparse.Namespace) at `self.args`. Some of arguments are reserved to the super class and are common to all applications. For instance the `--no-gui` argument that you have already heard about in first [software tutorials](https://github.com/arbalet-project/arbadoc/wiki/Software-tutorials#arguments) can be accessed through the field `self.args.no_gui`."
     ]
    },
    {
     "cell_type": "markdown",
     "metadata": {},
     "source": [
      "Applications needing their own arguments can declare their own `argparse.ArgumentParser`, fill it with with its accepted arguments (make sure there is no name collision with the common ones) and pass the object to `Arbapp`. **Do not call `parser.parse_args()` yourself**, `Arbapp` will do this for us!\n",
      "\n",
      "Let's add a `--duration` argument with short name `-d` as a float being the movie duration with a default value of `10.0` seconds."
     ]
    },
    {
     "cell_type": "code",
     "collapsed": false,
     "input": [
      "class WormApp(Arbapp):\n",
      "    def __init__(self):\n",
      "        parser = argparse.ArgumentParser(description='This trivial application shows a worm')\n",
      "        parser.add_argument('-col', '--color',\n",
      "                            type=str,\n",
      "                            default='red',\n",
      "                            help='Color of the worm (string of a HTML color)')\n",
      "        Arbapp.__init__(self, parser)      # The argparse object is passed to Arbapp here"
     ],
     "language": "python",
     "metadata": {},
     "outputs": []
    },
    {
     "cell_type": "markdown",
     "metadata": {},
     "source": [
      "The constructor should just be used to initialize the workspace, declare arguments, and eventually initialize the model with some color, not more. The heart of the application must overload the method `Arbapp.run()`. This `run()` also comes with a `start()` whose call ensures that all the resources are closed after a successful or failed run.\n",
      "\n",
      "As our first code in `run()`, let's display a red pixel browsing the whole table. For this we will simply cleanup the model (setting all pixels black with `set_all()`) and then attributing the red color to a single pixel with `set_pixel()`.\n",
      "\n",
      "There are 3 iomportant elemnts in the code hereafter:\n",
      "\n",
      "## The `Rate` class\n",
      "The `Rate` class is a controlled loop, it allows you to loop at a specific frame rate in hertz whatever the time your calculations take (assuming that the CPU is not overloaded). For instance `Rate(5)` will loop at ~5Hz, resulting each pixel to stay lit 200ms.\n",
      "\n",
      "## Model locking\n",
      "The `with self.arbalet.user_model` statement allows to lock the model. In general this prevents the hardware and simulator from reading an unstable frame. For instance, to draw the next pixel we decided to set all pixels to black. If the frame is sent to the table right after `set_all` the table will actually show a black screen which we do not want. Therefore, locking the model while painting on it allows to display only stable models.\n",
      "\n",
      "## Text display\n",
      "The model allows to render pixelated text on the table thanks to a single call `user_model.write(\"Some text\", \"color\")`"
     ]
    },
    {
     "cell_type": "code",
     "collapsed": false,
     "input": [
      "class WormApp(Arbapp):\n",
      "    def __init__(self):\n",
      "        parser = argparse.ArgumentParser(description='This trivial application shows a worm')\n",
      "        parser.add_argument('-col', '--color',\n",
      "                            type=str,\n",
      "                            default='red',\n",
      "                            help='Color of the worm (string of a HTML color)')\n",
      "        Arbapp.__init__(self, parser)      # The argparse object is passed to Arbapp here\n",
      "\n",
      "    def run(self):\n",
      "        # We start by displaying some text\n",
      "        self.arbalet.user_model.write('My color: ' + self.args.color.upper(), self.args.color)\n",
      "\n",
      "        # Then we display the actual worm\n",
      "        rate = Rate(5)\n",
      "        with self.arbalet.user_model:\n",
      "            for h in range(self.arbalet.height):\n",
      "                for w in range(self.arbalet.width):\n",
      "                    with self.arbalet.user_model:\n",
      "                        self.arbalet.user_model.set_all('black')\n",
      "                        # The model is now all black (i.e. light off), in an unstable state\n",
      "                        self.arbalet.user_model.set_pixel(h, w, self.args.color)\n",
      "                        # The next pixel has been lit, the model is now stable we can release the lock\n",
      "                    rate.sleep()"
     ],
     "language": "python",
     "metadata": {},
     "outputs": []
    },
    {
     "cell_type": "markdown",
     "metadata": {},
     "source": [
      "We haven't executed this sample arbapp yet. You can start it by calling `start()`:"
     ]
    },
    {
     "cell_type": "code",
     "collapsed": false,
     "input": [
      "WormApp().start()"
     ],
     "language": "python",
     "metadata": {},
     "outputs": []
    },
    {
     "cell_type": "markdown",
     "metadata": {},
     "source": [
      "Note: Python notebook like this page are not very suitable for Arbapps, they must be saved into a new subfolder of the [arbapp](https://github.com/arbalet-project/arbapps). To be able to change the color thanks to the argument `--color` that we specified you must convert this notebook into python script and execute it directly. For this you can clic on File > Download as > Python (.py). Then run `python 3.create_an_arbapp.py --color blue` to execute the app with a blue worm."
     ]
    },
    {
     "cell_type": "markdown",
     "metadata": {},
     "source": [
      "Congratulations! You are now ready to develop your own app, make sure you create its own folder in the [`arbapps/`](https://github.com/arbalet-project/arbapps) repository.\n",
      "\n",
      "If you need extra features for games like reading a keyboard/joystick, playing music, you can use [pygame](http://www.pygame.org/docs/), for any other feature you should find a python module satisfying your needs. The last tutorial illustrates the touch feature."
     ]
    }
   ],
   "metadata": {}
  }
 ]
}