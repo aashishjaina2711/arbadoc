{
 "metadata": {
  "name": ""
 },
 "nbformat": 3,
 "nbformat_minor": 0,
 "worksheets": [
  {
   "cells": [
    {
     "cell_type": "markdown",
     "metadata": {},
     "source": [
      "# Pixels, size, and colors\n",
      "\n",
      "This tutorial illustrates how we control individual pixels, assign them a color, possible operations on colors and dealing with Arbalet's height and width. We'll create a pink-cyan example to understand these basic notions. \n",
      "\n",
      "From the ones we already know, we import an additional class `Arbapixel` representing a single pixel of the table:"
     ]
    },
    {
     "cell_type": "code",
     "collapsed": false,
     "input": [
      "from arbasdk import Arbamodel, Arbalet, Arbapixel"
     ],
     "language": "python",
     "metadata": {},
     "outputs": [],
     "prompt_number": 1
    },
    {
     "cell_type": "markdown",
     "metadata": {},
     "source": [
      "We create a pink model and link it to the controller:"
     ]
    },
    {
     "cell_type": "code",
     "collapsed": false,
     "input": [
      "arbalet = Arbalet(hardware=False, config='')"
     ],
     "language": "python",
     "metadata": {},
     "outputs": [],
     "prompt_number": 2
    },
    {
     "cell_type": "code",
     "collapsed": false,
     "input": [
      "model = Arbamodel(arbalet.height, arbalet.width, \"deeppink\")\n",
      "arbalet.set_model(model)"
     ],
     "language": "python",
     "metadata": {},
     "outputs": [],
     "prompt_number": 5
    },
    {
     "cell_type": "markdown",
     "metadata": {},
     "source": [
      "In the first tutorial we changed the color of all pixels at a time, but setting a new color to a single pixel is achieved with `Arbamodel.set_pixel()`. Let's draw a center horizontal **line** in cyan above the pink background. We browse all columns (from 0 to the end) with the same row (the middle of the height) and change the color of each pixel:"
     ]
    },
    {
     "cell_type": "code",
     "collapsed": false,
     "input": [
      "for w in range(arbalet.width):\n",
      "    model.set_pixel(int(arbalet.height/2), w, 'cyan')"
     ],
     "language": "python",
     "metadata": {},
     "outputs": [],
     "prompt_number": 7
    },
    {
     "cell_type": "markdown",
     "metadata": {},
     "source": [
      "Let's print in the terminal what color are all the pixels on the centered vertical **_column_** this time, getting a pixel color is achieved with `get_pixel()`:"
     ]
    },
    {
     "cell_type": "code",
     "collapsed": false,
     "input": [
      "for h in range(arbalet.height):\n",
      "    print \"Color\", model.get_pixel(h, int(arbalet.width/2))"
     ],
     "language": "python",
     "metadata": {},
     "outputs": [
      {
       "output_type": "stream",
       "stream": "stdout",
       "text": [
        "Color (255, 20, 147, 255)\n",
        "Color (255, 20, 147, 255)\n",
        "Color (255, 20, 147, 255)\n",
        "Color (255, 20, 147, 255)\n",
        "Color (255, 20, 147, 255)\n",
        "Color (255, 20, 147, 255)\n",
        "Color (255, 20, 147, 255)\n",
        "Color (0, 255, 255, 255)\n",
        "Color (255, 20, 147, 255)\n",
        "Color (255, 20, 147, 255)\n",
        "Color (255, 20, 147, 255)\n",
        "Color (255, 20, 147, 255)\n",
        "Color (255, 20, 147, 255)\n",
        "Color (255, 20, 147, 255)\n",
        "Color (255, 20, 147, 255)\n"
       ]
      }
     ],
     "prompt_number": 8
    },
    {
     "cell_type": "markdown",
     "metadata": {},
     "source": [
      "We observe than all the pixels in this column have the same 4-tuple representing a\n",
      "TODO: colors are represented by RGB\n",
      "TODO: size disambig (below)"
     ]
    },
    {
     "cell_type": "markdown",
     "metadata": {},
     "source": [
      "It is sometimes difficult to remember what side the _height_ and the _width_ are, since some programs will run in landscape, some others in portrait, some tables may be square, ... Exchanging _height_ and _width_ will lead to exceptions or less understandable bugs. \n",
      "The rule of the thumb is that whatever its size is, any _Arbalet_ is vertical (in portrait mode), thus:\n",
      "* __height__ represents __rows__\n",
      "* __width__ represents __columns__\n",
      "* height >= width"
     ]
    },
    {
     "cell_type": "code",
     "collapsed": false,
     "input": [
      "arbalet.close()"
     ],
     "language": "python",
     "metadata": {},
     "outputs": [],
     "prompt_number": 9
    },
    {
     "cell_type": "code",
     "collapsed": false,
     "input": [],
     "language": "python",
     "metadata": {},
     "outputs": []
    }
   ],
   "metadata": {}
  }
 ]
}